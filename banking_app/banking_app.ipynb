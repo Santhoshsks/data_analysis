{
 "cells": [
  {
   "cell_type": "markdown",
   "metadata": {},
   "source": [
    "##### TASK: To Write a Python program to calculate the total deposits, identify the top 3 customers by deposit, the top 2 customers by withdrawal, calculate the net balance per customer, and group the transactions by month to determine the total deposit and withdrawal amounts for each month"
   ]
  },
  {
   "cell_type": "code",
   "execution_count": 9,
   "metadata": {},
   "outputs": [
    {
     "data": {
      "text/html": [
       "<div>\n",
       "<style scoped>\n",
       "    .dataframe tbody tr th:only-of-type {\n",
       "        vertical-align: middle;\n",
       "    }\n",
       "\n",
       "    .dataframe tbody tr th {\n",
       "        vertical-align: top;\n",
       "    }\n",
       "\n",
       "    .dataframe thead th {\n",
       "        text-align: right;\n",
       "    }\n",
       "</style>\n",
       "<table border=\"1\" class=\"dataframe\">\n",
       "  <thead>\n",
       "    <tr style=\"text-align: right;\">\n",
       "      <th></th>\n",
       "      <th>transaction_id</th>\n",
       "      <th>customer_id</th>\n",
       "      <th>transaction_type</th>\n",
       "      <th>amount</th>\n",
       "      <th>timestamp</th>\n",
       "    </tr>\n",
       "  </thead>\n",
       "  <tbody>\n",
       "    <tr>\n",
       "      <th>0</th>\n",
       "      <td>T001</td>\n",
       "      <td>C001</td>\n",
       "      <td>deposit</td>\n",
       "      <td>5000</td>\n",
       "      <td>01/10/2025 9:30</td>\n",
       "    </tr>\n",
       "    <tr>\n",
       "      <th>1</th>\n",
       "      <td>T002</td>\n",
       "      <td>C002</td>\n",
       "      <td>withdrawal</td>\n",
       "      <td>1500</td>\n",
       "      <td>01/11/2025 10:45</td>\n",
       "    </tr>\n",
       "    <tr>\n",
       "      <th>2</th>\n",
       "      <td>T003</td>\n",
       "      <td>C003</td>\n",
       "      <td>deposit</td>\n",
       "      <td>3000</td>\n",
       "      <td>01/12/2025 11:20</td>\n",
       "    </tr>\n",
       "    <tr>\n",
       "      <th>3</th>\n",
       "      <td>T004</td>\n",
       "      <td>C001</td>\n",
       "      <td>withdrawal</td>\n",
       "      <td>2000</td>\n",
       "      <td>1/14/2025 14:00</td>\n",
       "    </tr>\n",
       "    <tr>\n",
       "      <th>4</th>\n",
       "      <td>T005</td>\n",
       "      <td>C004</td>\n",
       "      <td>deposit</td>\n",
       "      <td>7000</td>\n",
       "      <td>1/16/2025 15:10</td>\n",
       "    </tr>\n",
       "  </tbody>\n",
       "</table>\n",
       "</div>"
      ],
      "text/plain": [
       "  transaction_id customer_id transaction_type  amount         timestamp\n",
       "0           T001        C001          deposit    5000   01/10/2025 9:30\n",
       "1           T002        C002       withdrawal    1500  01/11/2025 10:45\n",
       "2           T003        C003          deposit    3000  01/12/2025 11:20\n",
       "3           T004        C001       withdrawal    2000   1/14/2025 14:00\n",
       "4           T005        C004          deposit    7000   1/16/2025 15:10"
      ]
     },
     "execution_count": 9,
     "metadata": {},
     "output_type": "execute_result"
    }
   ],
   "source": [
    "import pandas as pd\n",
    "import matplotlib.pyplot as plt\n",
    "\n",
    "df = pd.read_csv(\"bank_cust_list.csv\")\n",
    "df.head()"
   ]
  },
  {
   "cell_type": "code",
   "execution_count": 10,
   "metadata": {},
   "outputs": [
    {
     "data": {
      "text/plain": [
       "transaction_id      0\n",
       "customer_id         0\n",
       "transaction_type    0\n",
       "amount              0\n",
       "timestamp           0\n",
       "dtype: int64"
      ]
     },
     "execution_count": 10,
     "metadata": {},
     "output_type": "execute_result"
    }
   ],
   "source": [
    "df.isna().sum()"
   ]
  },
  {
   "cell_type": "code",
   "execution_count": 11,
   "metadata": {},
   "outputs": [
    {
     "data": {
      "text/plain": [
       "transaction_id      object\n",
       "customer_id         object\n",
       "transaction_type    object\n",
       "amount               int64\n",
       "timestamp           object\n",
       "dtype: object"
      ]
     },
     "execution_count": 11,
     "metadata": {},
     "output_type": "execute_result"
    }
   ],
   "source": [
    "df.dtypes"
   ]
  },
  {
   "cell_type": "code",
   "execution_count": 12,
   "metadata": {},
   "outputs": [
    {
     "data": {
      "text/plain": [
       "0    2025-01-10 09:30:00\n",
       "1    2025-01-11 10:45:00\n",
       "2    2025-01-12 11:20:00\n",
       "3    2025-01-14 14:00:00\n",
       "4    2025-01-16 15:10:00\n",
       "5    2025-01-18 16:00:00\n",
       "6    2025-01-19 10:10:00\n",
       "7    2025-01-20 09:00:00\n",
       "8    2025-02-01 13:00:00\n",
       "9    2025-02-05 14:45:00\n",
       "10   2025-02-07 11:30:00\n",
       "11   2025-02-10 10:10:00\n",
       "12   2025-02-11 12:25:00\n",
       "13   2025-02-14 15:20:00\n",
       "14   2025-02-15 10:10:00\n",
       "15   2025-02-17 13:35:00\n",
       "16   2025-03-01 08:00:00\n",
       "17   2025-03-03 09:40:00\n",
       "18   2025-03-05 14:00:00\n",
       "19   2025-03-07 10:00:00\n",
       "20   2025-03-08 11:10:00\n",
       "21   2025-03-10 15:30:00\n",
       "22   2025-03-12 17:00:00\n",
       "Name: timestamp, dtype: datetime64[ns]"
      ]
     },
     "execution_count": 12,
     "metadata": {},
     "output_type": "execute_result"
    }
   ],
   "source": [
    "df['timestamp'] = pd.to_datetime(df['timestamp'], format='%m/%d/%Y %H:%M') # to make the format for timestamp proper\n",
    "df[\"timestamp\"]"
   ]
  },
  {
   "cell_type": "markdown",
   "metadata": {},
   "source": [
    "#### Report Metrics"
   ]
  },
  {
   "cell_type": "code",
   "execution_count": 13,
   "metadata": {},
   "outputs": [],
   "source": [
    "total_deposit = df[df['transaction_type'] == 'deposit']['amount'].sum()\n",
    "\n",
    "deposits = df[df['transaction_type'] == 'deposit'].groupby('customer_id')['amount'].sum()\n",
    "top3_deposit = deposits.sort_values(ascending=False).head(3)\n",
    "\n",
    "withdraws = df[df['transaction_type'] == 'withdrawal'].groupby('customer_id')['amount'].sum()\n",
    "top2_withdraw = withdraws.sort_values(ascending=False).head(2)\n",
    "\n",
    "net_balance = deposits.subtract(withdraws, fill_value=0)\n",
    "\n",
    "df['month'] = df['timestamp'].dt.strftime('%Y-%m') # for sorting by month\n",
    "monthly_summary = df.groupby(['month', 'transaction_type'])['amount'].sum().unstack(fill_value=0)\n"
   ]
  },
  {
   "cell_type": "code",
   "execution_count": 14,
   "metadata": {},
   "outputs": [
    {
     "data": {
      "text/plain": [
       "<Figure size 1000x600 with 0 Axes>"
      ]
     },
     "metadata": {},
     "output_type": "display_data"
    },
    {
     "data": {
      "image/png": "[encoded data removed]",
      "text/plain": [
       "<Figure size 640x480 with 1 Axes>"
      ]
     },
     "metadata": {},
     "output_type": "display_data"
    }
   ],
   "source": [
    "plt.figure(figsize=(10, 6))\n",
    "monthly_summary.plot(kind='bar')\n",
    "plt.title(\"Monthly Deposit and Withdrawal Amounts\")\n",
    "plt.ylabel(\"Amount\")\n",
    "plt.xlabel(\"Month\")\n",
    "plt.xticks(rotation=45)\n",
    "plt.tight_layout()\n",
    "plt.show()"
   ]
  },
  {
   "cell_type": "code",
   "execution_count": 15,
   "metadata": {},
   "outputs": [
    {
     "data": {
      "image/png": "[encoded data removed]",
      "text/plain": [
       "<Figure size 1000x600 with 1 Axes>"
      ]
     },
     "metadata": {},
     "output_type": "display_data"
    }
   ],
   "source": [
    "plt.figure(figsize=(10, 6))\n",
    "net_balance.sort_values().plot(kind='bar', color='teal')\n",
    "plt.title(\"Net Balance per Customer\")\n",
    "plt.ylabel(\"Balance\")\n",
    "plt.xlabel(\"Customer ID\")\n",
    "plt.tight_layout()\n",
    "plt.show()"
   ]
  },
  {
   "cell_type": "markdown",
   "metadata": {},
   "source": [
    "##### Saving"
   ]
  },
  {
   "cell_type": "code",
   "execution_count": 16,
   "metadata": {},
   "outputs": [
    {
     "name": "stdout",
     "output_type": "stream",
     "text": [
      "------ Report saved ------\n"
     ]
    }
   ],
   "source": [
    "report_path = \"report.txt\"\n",
    "with open(report_path, \"w\") as file:\n",
    "    file.write(\"------ Report ------\\n\\n\")\n",
    "    file.write(f\"Total Deposits: {total_deposit}\\n\\n\")\n",
    "    file.write(\"Top 3 Customers by Deposit:\\n\")\n",
    "    file.write(top3_deposit.to_string() + \"\\n\\n\")\n",
    "    file.write(\"Top 2 Customers by Withdrawal:\\n\")\n",
    "    file.write(top2_withdraw.to_string() + \"\\n\\n\")\n",
    "    file.write(\"Net Balance per Customer:\\n\")\n",
    "    file.write(net_balance.to_string() + \"\\n\\n\")\n",
    "    file.write(\"Monthly Deposit and Withdrawal Summary:\\n\")\n",
    "    file.write(monthly_summary.to_string())\n",
    "\n",
    "print(\"------ Report saved ------\")"
   ]
  }
 ],
 "metadata": {
  "kernelspec": {
   "display_name": "Python 3",
   "language": "python",
   "name": "python3"
  },
  "language_info": {
   "codemirror_mode": {
    "name": "ipython",
    "version": 3
   },
   "file_extension": ".py",
   "mimetype": "text/x-python",
   "name": "python",
   "nbconvert_exporter": "python",
   "pygments_lexer": "ipython3",
   "version": "3.12.7"
  }
 },
 "nbformat": 4,
 "nbformat_minor": 2
}
