{
 "cells": [
  {
   "cell_type": "markdown",
   "metadata": {},
   "source": [
    "### TASK: To Create a Python program that fetches real-time weather data (temperature, humidity) from a public weather API (e.g., OpenWeatherMap), logs it at regular intervals for multiple locations, stores the data in an SQLite database, and analyzes it by calculating daily and weekly averages for each location."
   ]
  },
  {
   "cell_type": "code",
   "execution_count": 21,
   "metadata": {},
   "outputs": [
    {
     "data": {
      "text/html": [
       "<div>\n",
       "<style scoped>\n",
       "    .dataframe tbody tr th:only-of-type {\n",
       "        vertical-align: middle;\n",
       "    }\n",
       "\n",
       "    .dataframe tbody tr th {\n",
       "        vertical-align: top;\n",
       "    }\n",
       "\n",
       "    .dataframe thead th {\n",
       "        text-align: right;\n",
       "    }\n",
       "</style>\n",
       "<table border=\"1\" class=\"dataframe\">\n",
       "  <thead>\n",
       "    <tr style=\"text-align: right;\">\n",
       "      <th></th>\n",
       "      <th>0</th>\n",
       "    </tr>\n",
       "  </thead>\n",
       "  <tbody>\n",
       "    <tr>\n",
       "      <th>0</th>\n",
       "      <td>New York</td>\n",
       "    </tr>\n",
       "    <tr>\n",
       "      <th>1</th>\n",
       "      <td>London</td>\n",
       "    </tr>\n",
       "    <tr>\n",
       "      <th>2</th>\n",
       "      <td>Tokyo</td>\n",
       "    </tr>\n",
       "    <tr>\n",
       "      <th>3</th>\n",
       "      <td>Berlin</td>\n",
       "    </tr>\n",
       "    <tr>\n",
       "      <th>4</th>\n",
       "      <td>Paris</td>\n",
       "    </tr>\n",
       "  </tbody>\n",
       "</table>\n",
       "</div>"
      ],
      "text/plain": [
       "          0\n",
       "0  New York\n",
       "1    London\n",
       "2     Tokyo\n",
       "3    Berlin\n",
       "4     Paris"
      ]
     },
     "execution_count": 21,
     "metadata": {},
     "output_type": "execute_result"
    }
   ],
   "source": [
    "import pandas as pd\n",
    "import requests\n",
    "import sqlite3\n",
    "import schedule\n",
    "import time\n",
    "import os\n",
    "import logging\n",
    "from datetime import datetime, timezone\n",
    "\n",
    "locations = pd.read_csv(\"location_list.csv\", header=None)\n",
    "locations.head()"
   ]
  },
  {
   "cell_type": "code",
   "execution_count": 22,
   "metadata": {},
   "outputs": [
    {
     "data": {
      "text/html": [
       "<div>\n",
       "<style scoped>\n",
       "    .dataframe tbody tr th:only-of-type {\n",
       "        vertical-align: middle;\n",
       "    }\n",
       "\n",
       "    .dataframe tbody tr th {\n",
       "        vertical-align: top;\n",
       "    }\n",
       "\n",
       "    .dataframe thead th {\n",
       "        text-align: right;\n",
       "    }\n",
       "</style>\n",
       "<table border=\"1\" class=\"dataframe\">\n",
       "  <thead>\n",
       "    <tr style=\"text-align: right;\">\n",
       "      <th></th>\n",
       "      <th>City</th>\n",
       "    </tr>\n",
       "  </thead>\n",
       "  <tbody>\n",
       "    <tr>\n",
       "      <th>0</th>\n",
       "      <td>New York</td>\n",
       "    </tr>\n",
       "    <tr>\n",
       "      <th>1</th>\n",
       "      <td>London</td>\n",
       "    </tr>\n",
       "    <tr>\n",
       "      <th>2</th>\n",
       "      <td>Tokyo</td>\n",
       "    </tr>\n",
       "    <tr>\n",
       "      <th>3</th>\n",
       "      <td>Berlin</td>\n",
       "    </tr>\n",
       "    <tr>\n",
       "      <th>4</th>\n",
       "      <td>Paris</td>\n",
       "    </tr>\n",
       "  </tbody>\n",
       "</table>\n",
       "</div>"
      ],
      "text/plain": [
       "       City\n",
       "0  New York\n",
       "1    London\n",
       "2     Tokyo\n",
       "3    Berlin\n",
       "4     Paris"
      ]
     },
     "execution_count": 22,
     "metadata": {},
     "output_type": "execute_result"
    }
   ],
   "source": [
    "locations.columns = [\"City\"]\n",
    "locations.head()"
   ]
  },
  {
   "cell_type": "code",
   "execution_count": 23,
   "metadata": {},
   "outputs": [
    {
     "name": "stdout",
     "output_type": "stream",
     "text": [
      "['New York', 'London', 'Tokyo', 'Berlin', 'Paris', 'Sydney', 'Los Angeles', 'Madrid', 'Rome', 'Moscow', 'Cairo', 'Dubai', 'Singapore', 'Seoul', 'Toronto', 'Mumbai']\n"
     ]
    }
   ],
   "source": [
    "cities = locations[\"City\"].tolist() # city list to calculate weather\n",
    "print(cities)"
   ]
  },
  {
   "cell_type": "code",
   "execution_count": 24,
   "metadata": {},
   "outputs": [],
   "source": [
    "API_KEY =  os.getenv(\"API_KEY\") \n",
    "conn = sqlite3.connect(\"weather_data.db\")\n",
    "cursor = conn.cursor()\n",
    "cursor.execute(\"\"\"\n",
    "    CREATE TABLE IF NOT EXISTS weather_log (\n",
    "        id INTEGER PRIMARY KEY AUTOINCREMENT,\n",
    "        city TEXT,\n",
    "        temperature REAL,\n",
    "        humidity REAL,\n",
    "        timestamp DATETIME\n",
    "    )\n",
    "\"\"\")\n",
    "conn.commit()\n",
    "conn.close()"
   ]
  },
  {
   "cell_type": "code",
   "execution_count": 25,
   "metadata": {},
   "outputs": [],
   "source": [
    "logging.basicConfig(\n",
    "    filename=\"logs.txt\",\n",
    "    level=logging.INFO,\n",
    "    format=\"%(asctime)s [%(levelname)s] %(message)s\"\n",
    ")"
   ]
  },
  {
   "cell_type": "code",
   "execution_count": null,
   "metadata": {},
   "outputs": [],
   "source": [
    "def fetch_weather(city):\n",
    "    url = f\"http://api.openweathermap.org/data/2.5/weather?q={city}&appid={API_KEY}&units=metric\"\n",
    "    try:\n",
    "        response = requests.get(url)\n",
    "        data = response.json()\n",
    "        if response.status_code == 200:\n",
    "            return {\n",
    "                \"city\": city,\n",
    "                \"temperature\": data[\"main\"][\"temp\"],\n",
    "                \"humidity\": data[\"main\"][\"humidity\"],\n",
    "                \"timestamp\": datetime.now(timezone.utc).strftime(\"%Y-%m-%d %H:%M:%S\")\n",
    "            }\n",
    "        else:\n",
    "            logging.warning(f\"API error for {city}: {data.get('message')}\")\n",
    "            return None\n",
    "    except Exception as e:\n",
    "        logging.error(f\"Error fetching weather for {city}: {e}\")\n",
    "        return None\n",
    "\n",
    "def insert_weather(data):\n",
    "    if data:\n",
    "        print(data)\n",
    "        conn = sqlite3.connect(\"weather_data.db\")\n",
    "        cursor = conn.cursor()\n",
    "        cursor.execute(\"\"\"\n",
    "            INSERT INTO weather_log (city, temperature, humidity, timestamp)\n",
    "            VALUES (?, ?, ?, ?)\n",
    "        \"\"\", (data[\"city\"], data[\"temperature\"], data[\"humidity\"], data[\"timestamp\"]))\n",
    "        conn.commit()\n",
    "        conn.close()\n",
    "        logging.info(f\"Inserted weather data for {data['city']}\")\n",
    "\n",
    "def calculate_aggregates():\n",
    "    try:\n",
    "        conn = sqlite3.connect(\"weather_data.db\")\n",
    "        df = pd.read_sql_query(\"SELECT * FROM weather_log\", conn)\n",
    "        df[\"timestamp\"] = pd.to_datetime(df[\"timestamp\"])\n",
    "        df[\"date\"] = df[\"timestamp\"].dt.date\n",
    "        df[\"week\"] = df[\"timestamp\"].dt.isocalendar().week # to calc weekly average \n",
    "\n",
    "        daily_avg = df.groupby([\"city\", \"date\"])[[\"temperature\", \"humidity\"]].mean().round(2)\n",
    "        weekly_avg = df.groupby([\"city\", \"week\"])[[\"temperature\", \"humidity\"]].mean().round(2)\n",
    "\n",
    "        daily_avg.to_csv(\"daily_average_cal.csv\")\n",
    "        weekly_avg.to_csv(\"weekly_average_cal.csv\")\n",
    "\n",
    "        logging.info(\"Saved daily and weekly averages to CSV files.\")\n",
    "        conn.close()\n",
    "    except Exception as e:\n",
    "        logging.error(f\"Error calculating aggregates: {e}\")"
   ]
  },
  {
   "cell_type": "code",
   "execution_count": 27,
   "metadata": {},
   "outputs": [],
   "source": [
    "def log_weather_cities():\n",
    "    logging.info(\"Logging started\")\n",
    "    for city in cities:\n",
    "        data = fetch_weather(city)\n",
    "        insert_weather(data)\n",
    "    logging.info(\"Completed weather logging for all cities\")"
   ]
  },
  {
   "cell_type": "code",
   "execution_count": 28,
   "metadata": {},
   "outputs": [
    {
     "name": "stdout",
     "output_type": "stream",
     "text": [
      "{'city': 'New York', 'temperature': 7.63, 'humidity': 93, 'timestamp': '2025-03-20 15:28:28'}\n",
      "{'city': 'London', 'temperature': 19.36, 'humidity': 51, 'timestamp': '2025-03-20 15:28:28'}\n",
      "{'city': 'Tokyo', 'temperature': 8, 'humidity': 73, 'timestamp': '2025-03-20 15:28:28'}\n",
      "{'city': 'Berlin', 'temperature': 17.2, 'humidity': 31, 'timestamp': '2025-03-20 15:28:28'}\n",
      "{'city': 'Paris', 'temperature': 19.51, 'humidity': 45, 'timestamp': '2025-03-20 15:28:28'}\n",
      "{'city': 'Sydney', 'temperature': 21.17, 'humidity': 82, 'timestamp': '2025-03-20 15:28:29'}\n",
      "{'city': 'Los Angeles', 'temperature': 12.9, 'humidity': 59, 'timestamp': '2025-03-20 15:28:29'}\n",
      "{'city': 'Madrid', 'temperature': 15.21, 'humidity': 70, 'timestamp': '2025-03-20 15:28:29'}\n",
      "{'city': 'Rome', 'temperature': 9.95, 'humidity': 53, 'timestamp': '2025-03-20 15:28:29'}\n",
      "{'city': 'Moscow', 'temperature': 7.59, 'humidity': 47, 'timestamp': '2025-03-20 15:28:29'}\n",
      "{'city': 'Cairo', 'temperature': 16.42, 'humidity': 39, 'timestamp': '2025-03-20 15:28:29'}\n",
      "{'city': 'Dubai', 'temperature': 29.96, 'humidity': 35, 'timestamp': '2025-03-20 15:28:29'}\n",
      "{'city': 'Singapore', 'temperature': 23.67, 'humidity': 87, 'timestamp': '2025-03-20 15:28:29'}\n",
      "{'city': 'Seoul', 'temperature': 7.76, 'humidity': 87, 'timestamp': '2025-03-20 15:28:29'}\n",
      "{'city': 'Toronto', 'temperature': 9.82, 'humidity': 81, 'timestamp': '2025-03-20 15:28:30'}\n",
      "{'city': 'Mumbai', 'temperature': 29.99, 'humidity': 39, 'timestamp': '2025-03-20 15:28:30'}\n",
      "{'city': 'New York', 'temperature': 7.63, 'humidity': 93, 'timestamp': '2025-03-20 15:29:25'}\n",
      "{'city': 'London', 'temperature': 19.36, 'humidity': 51, 'timestamp': '2025-03-20 15:29:25'}\n",
      "{'city': 'Tokyo', 'temperature': 8, 'humidity': 73, 'timestamp': '2025-03-20 15:29:25'}\n",
      "{'city': 'Berlin', 'temperature': 17.2, 'humidity': 31, 'timestamp': '2025-03-20 15:29:26'}\n",
      "{'city': 'Paris', 'temperature': 19.51, 'humidity': 45, 'timestamp': '2025-03-20 15:29:26'}\n",
      "{'city': 'Sydney', 'temperature': 21.17, 'humidity': 82, 'timestamp': '2025-03-20 15:29:26'}\n",
      "{'city': 'Los Angeles', 'temperature': 12.9, 'humidity': 59, 'timestamp': '2025-03-20 15:29:26'}\n",
      "{'city': 'Madrid', 'temperature': 15.21, 'humidity': 70, 'timestamp': '2025-03-20 15:29:26'}\n",
      "{'city': 'Rome', 'temperature': 9.95, 'humidity': 53, 'timestamp': '2025-03-20 15:29:26'}\n",
      "{'city': 'Moscow', 'temperature': 7.59, 'humidity': 47, 'timestamp': '2025-03-20 15:29:27'}\n",
      "{'city': 'Cairo', 'temperature': 16.42, 'humidity': 39, 'timestamp': '2025-03-20 15:29:27'}\n",
      "{'city': 'Dubai', 'temperature': 29.96, 'humidity': 35, 'timestamp': '2025-03-20 15:29:27'}\n",
      "{'city': 'Singapore', 'temperature': 23.67, 'humidity': 87, 'timestamp': '2025-03-20 15:29:27'}\n",
      "{'city': 'Seoul', 'temperature': 7.76, 'humidity': 87, 'timestamp': '2025-03-20 15:29:27'}\n",
      "{'city': 'Toronto', 'temperature': 9.82, 'humidity': 81, 'timestamp': '2025-03-20 15:29:27'}\n",
      "{'city': 'Mumbai', 'temperature': 29.99, 'humidity': 39, 'timestamp': '2025-03-20 15:29:27'}\n",
      "{'city': 'New York', 'temperature': 7.63, 'humidity': 93, 'timestamp': '2025-03-20 15:29:34'}\n",
      "{'city': 'London', 'temperature': 19.36, 'humidity': 51, 'timestamp': '2025-03-20 15:29:34'}\n",
      "{'city': 'Tokyo', 'temperature': 8, 'humidity': 73, 'timestamp': '2025-03-20 15:29:34'}\n",
      "{'city': 'Berlin', 'temperature': 17.2, 'humidity': 31, 'timestamp': '2025-03-20 15:29:34'}\n",
      "{'city': 'Paris', 'temperature': 19.51, 'humidity': 45, 'timestamp': '2025-03-20 15:29:34'}\n",
      "{'city': 'Sydney', 'temperature': 21.17, 'humidity': 82, 'timestamp': '2025-03-20 15:29:34'}\n",
      "{'city': 'Los Angeles', 'temperature': 12.9, 'humidity': 59, 'timestamp': '2025-03-20 15:29:34'}\n",
      "{'city': 'Madrid', 'temperature': 15.21, 'humidity': 70, 'timestamp': '2025-03-20 15:29:34'}\n",
      "{'city': 'Rome', 'temperature': 9.95, 'humidity': 53, 'timestamp': '2025-03-20 15:29:34'}\n",
      "{'city': 'Moscow', 'temperature': 7.59, 'humidity': 47, 'timestamp': '2025-03-20 15:29:34'}\n",
      "{'city': 'Cairo', 'temperature': 16.42, 'humidity': 39, 'timestamp': '2025-03-20 15:29:34'}\n",
      "{'city': 'Dubai', 'temperature': 29.96, 'humidity': 35, 'timestamp': '2025-03-20 15:29:34'}\n",
      "{'city': 'Singapore', 'temperature': 23.67, 'humidity': 87, 'timestamp': '2025-03-20 15:29:34'}\n",
      "{'city': 'Seoul', 'temperature': 7.76, 'humidity': 87, 'timestamp': '2025-03-20 15:29:34'}\n",
      "{'city': 'Toronto', 'temperature': 9.82, 'humidity': 81, 'timestamp': '2025-03-20 15:29:35'}\n",
      "{'city': 'Mumbai', 'temperature': 29.99, 'humidity': 39, 'timestamp': '2025-03-20 15:29:35'}\n",
      "{'city': 'New York', 'temperature': 7.63, 'humidity': 93, 'timestamp': '2025-03-20 15:30:30'}\n",
      "{'city': 'London', 'temperature': 19.36, 'humidity': 51, 'timestamp': '2025-03-20 15:30:30'}\n",
      "{'city': 'Tokyo', 'temperature': 8, 'humidity': 73, 'timestamp': '2025-03-20 15:30:30'}\n",
      "{'city': 'Berlin', 'temperature': 17.2, 'humidity': 31, 'timestamp': '2025-03-20 15:30:30'}\n",
      "{'city': 'Paris', 'temperature': 19.51, 'humidity': 45, 'timestamp': '2025-03-20 15:30:32'}\n",
      "{'city': 'Sydney', 'temperature': 21.17, 'humidity': 82, 'timestamp': '2025-03-20 15:30:32'}\n",
      "{'city': 'Los Angeles', 'temperature': 12.9, 'humidity': 59, 'timestamp': '2025-03-20 15:30:32'}\n",
      "{'city': 'Madrid', 'temperature': 15.21, 'humidity': 70, 'timestamp': '2025-03-20 15:30:32'}\n",
      "{'city': 'Rome', 'temperature': 9.95, 'humidity': 53, 'timestamp': '2025-03-20 15:30:32'}\n",
      "{'city': 'Moscow', 'temperature': 7.59, 'humidity': 47, 'timestamp': '2025-03-20 15:30:32'}\n",
      "{'city': 'Cairo', 'temperature': 16.42, 'humidity': 39, 'timestamp': '2025-03-20 15:30:32'}\n",
      "{'city': 'Dubai', 'temperature': 29.96, 'humidity': 35, 'timestamp': '2025-03-20 15:30:32'}\n",
      "{'city': 'Singapore', 'temperature': 23.67, 'humidity': 87, 'timestamp': '2025-03-20 15:30:34'}\n",
      "{'city': 'Seoul', 'temperature': 7.76, 'humidity': 87, 'timestamp': '2025-03-20 15:30:34'}\n",
      "{'city': 'Toronto', 'temperature': 9.82, 'humidity': 81, 'timestamp': '2025-03-20 15:30:34'}\n",
      "{'city': 'Mumbai', 'temperature': 29.99, 'humidity': 39, 'timestamp': '2025-03-20 15:30:34'}\n",
      "{'city': 'New York', 'temperature': 7.63, 'humidity': 93, 'timestamp': '2025-03-20 15:30:42'}\n",
      "{'city': 'London', 'temperature': 19.36, 'humidity': 51, 'timestamp': '2025-03-20 15:30:42'}\n",
      "{'city': 'Tokyo', 'temperature': 8, 'humidity': 73, 'timestamp': '2025-03-20 15:30:42'}\n",
      "{'city': 'Berlin', 'temperature': 17.2, 'humidity': 31, 'timestamp': '2025-03-20 15:30:44'}\n",
      "{'city': 'Paris', 'temperature': 19.51, 'humidity': 45, 'timestamp': '2025-03-20 15:30:44'}\n",
      "{'city': 'Sydney', 'temperature': 21.17, 'humidity': 82, 'timestamp': '2025-03-20 15:30:44'}\n",
      "{'city': 'Los Angeles', 'temperature': 12.9, 'humidity': 59, 'timestamp': '2025-03-20 15:30:44'}\n",
      "{'city': 'Madrid', 'temperature': 15.21, 'humidity': 70, 'timestamp': '2025-03-20 15:30:44'}\n",
      "{'city': 'Rome', 'temperature': 9.95, 'humidity': 53, 'timestamp': '2025-03-20 15:30:44'}\n",
      "{'city': 'Moscow', 'temperature': 7.59, 'humidity': 47, 'timestamp': '2025-03-20 15:30:44'}\n",
      "{'city': 'Cairo', 'temperature': 16.42, 'humidity': 39, 'timestamp': '2025-03-20 15:30:44'}\n",
      "{'city': 'Dubai', 'temperature': 29.96, 'humidity': 35, 'timestamp': '2025-03-20 15:30:45'}\n",
      "{'city': 'Singapore', 'temperature': 23.67, 'humidity': 87, 'timestamp': '2025-03-20 15:30:45'}\n",
      "{'city': 'Seoul', 'temperature': 7.76, 'humidity': 87, 'timestamp': '2025-03-20 15:30:45'}\n",
      "{'city': 'Toronto', 'temperature': 9.82, 'humidity': 81, 'timestamp': '2025-03-20 15:30:45'}\n",
      "{'city': 'Mumbai', 'temperature': 29.99, 'humidity': 39, 'timestamp': '2025-03-20 15:30:45'}\n",
      "{'city': 'New York', 'temperature': 7.63, 'humidity': 93, 'timestamp': '2025-03-20 15:31:35'}\n",
      "{'city': 'London', 'temperature': 19.61, 'humidity': 49, 'timestamp': '2025-03-20 15:31:35'}\n",
      "{'city': 'Tokyo', 'temperature': 8, 'humidity': 73, 'timestamp': '2025-03-20 15:31:35'}\n",
      "{'city': 'Berlin', 'temperature': 17.2, 'humidity': 31, 'timestamp': '2025-03-20 15:31:36'}\n",
      "{'city': 'Paris', 'temperature': 19.51, 'humidity': 45, 'timestamp': '2025-03-20 15:31:36'}\n",
      "{'city': 'Sydney', 'temperature': 21.17, 'humidity': 82, 'timestamp': '2025-03-20 15:31:36'}\n",
      "{'city': 'Los Angeles', 'temperature': 12.9, 'humidity': 59, 'timestamp': '2025-03-20 15:31:36'}\n",
      "{'city': 'Madrid', 'temperature': 15.21, 'humidity': 70, 'timestamp': '2025-03-20 15:31:36'}\n",
      "{'city': 'Rome', 'temperature': 9.95, 'humidity': 53, 'timestamp': '2025-03-20 15:31:36'}\n",
      "{'city': 'Moscow', 'temperature': 7.59, 'humidity': 47, 'timestamp': '2025-03-20 15:31:36'}\n",
      "{'city': 'Cairo', 'temperature': 16.42, 'humidity': 39, 'timestamp': '2025-03-20 15:31:36'}\n",
      "{'city': 'Dubai', 'temperature': 29.96, 'humidity': 35, 'timestamp': '2025-03-20 15:31:37'}\n",
      "{'city': 'Singapore', 'temperature': 23.67, 'humidity': 87, 'timestamp': '2025-03-20 15:31:37'}\n",
      "{'city': 'Seoul', 'temperature': 7.76, 'humidity': 87, 'timestamp': '2025-03-20 15:31:37'}\n",
      "{'city': 'Toronto', 'temperature': 10.05, 'humidity': 80, 'timestamp': '2025-03-20 15:31:37'}\n",
      "{'city': 'Mumbai', 'temperature': 29.99, 'humidity': 39, 'timestamp': '2025-03-20 15:31:37'}\n",
      "{'city': 'New York', 'temperature': 7.63, 'humidity': 93, 'timestamp': '2025-03-20 15:31:47'}\n",
      "{'city': 'London', 'temperature': 19.61, 'humidity': 49, 'timestamp': '2025-03-20 15:31:47'}\n",
      "{'city': 'Tokyo', 'temperature': 8, 'humidity': 73, 'timestamp': '2025-03-20 15:31:47'}\n",
      "{'city': 'Berlin', 'temperature': 17.2, 'humidity': 31, 'timestamp': '2025-03-20 15:31:47'}\n",
      "{'city': 'Paris', 'temperature': 19.51, 'humidity': 45, 'timestamp': '2025-03-20 15:31:47'}\n",
      "{'city': 'Sydney', 'temperature': 21.17, 'humidity': 82, 'timestamp': '2025-03-20 15:31:47'}\n",
      "{'city': 'Los Angeles', 'temperature': 12.9, 'humidity': 59, 'timestamp': '2025-03-20 15:31:48'}\n",
      "{'city': 'Madrid', 'temperature': 15.21, 'humidity': 70, 'timestamp': '2025-03-20 15:31:48'}\n",
      "{'city': 'Rome', 'temperature': 9.95, 'humidity': 53, 'timestamp': '2025-03-20 15:31:48'}\n",
      "{'city': 'Moscow', 'temperature': 7.59, 'humidity': 47, 'timestamp': '2025-03-20 15:31:48'}\n",
      "{'city': 'Cairo', 'temperature': 16.42, 'humidity': 39, 'timestamp': '2025-03-20 15:31:48'}\n",
      "{'city': 'Dubai', 'temperature': 29.96, 'humidity': 35, 'timestamp': '2025-03-20 15:31:48'}\n",
      "{'city': 'Singapore', 'temperature': 23.67, 'humidity': 87, 'timestamp': '2025-03-20 15:31:55'}\n",
      "{'city': 'Seoul', 'temperature': 7.76, 'humidity': 87, 'timestamp': '2025-03-20 15:31:55'}\n",
      "{'city': 'Toronto', 'temperature': 10.05, 'humidity': 80, 'timestamp': '2025-03-20 15:31:55'}\n",
      "{'city': 'Mumbai', 'temperature': 29.99, 'humidity': 39, 'timestamp': '2025-03-20 15:31:55'}\n"
     ]
    },
    {
     "ename": "KeyboardInterrupt",
     "evalue": "",
     "output_type": "error",
     "traceback": [
      "\u001b[1;31m---------------------------------------------------------------------------\u001b[0m",
      "\u001b[1;31mKeyboardInterrupt\u001b[0m                         Traceback (most recent call last)",
      "Cell \u001b[1;32mIn[28], line 4\u001b[0m\n\u001b[0;32m      2\u001b[0m \u001b[38;5;28;01mwhile\u001b[39;00m \u001b[38;5;28;01mTrue\u001b[39;00m:\n\u001b[0;32m      3\u001b[0m     schedule\u001b[38;5;241m.\u001b[39mrun_pending()\n\u001b[1;32m----> 4\u001b[0m     \u001b[43mtime\u001b[49m\u001b[38;5;241;43m.\u001b[39;49m\u001b[43msleep\u001b[49m\u001b[43m(\u001b[49m\u001b[38;5;241;43m5\u001b[39;49m\u001b[43m)\u001b[49m  \u001b[38;5;66;03m# check every 5 secs if there is a pending schedule or not \u001b[39;00m\n",
      "\u001b[1;31mKeyboardInterrupt\u001b[0m: "
     ]
    }
   ],
   "source": [
    "schedule.every(1).minutes.do(log_weather_cities) # scheduled for 1 min - next does the loging\n",
    "while True:\n",
    "    schedule.run_pending()\n",
    "    time.sleep(5)  # to check every 5 secs if there is a pending schedule or not "
   ]
  },
  {
   "cell_type": "code",
   "execution_count": 29,
   "metadata": {},
   "outputs": [
    {
     "name": "stdout",
     "output_type": "stream",
     "text": [
      "      id       city  temperature  humidity            timestamp\n",
      "0      1   New York         7.37      94.0  2025-03-20 20:26:22\n",
      "1      2     London        19.56      50.0  2025-03-20 20:26:23\n",
      "2      3      Tokyo         8.25      71.0  2025-03-20 20:26:23\n",
      "3      4     Berlin        17.43      31.0  2025-03-20 20:26:23\n",
      "4      5      Paris        19.81      45.0  2025-03-20 20:26:23\n",
      "..   ...        ...          ...       ...                  ...\n",
      "155  156      Dubai        29.96      35.0  2025-03-20 15:31:48\n",
      "156  157  Singapore        23.67      87.0  2025-03-20 15:31:55\n",
      "157  158      Seoul         7.76      87.0  2025-03-20 15:31:55\n",
      "158  159    Toronto        10.05      80.0  2025-03-20 15:31:55\n",
      "159  160     Mumbai        29.99      39.0  2025-03-20 15:31:55\n",
      "\n",
      "[160 rows x 5 columns]\n"
     ]
    }
   ],
   "source": [
    "conn = sqlite3.connect(\"weather_data.db\")\n",
    "df = pd.read_sql_query(\"SELECT * FROM weather_log\", conn)\n",
    "conn.close()\n",
    "print(df)"
   ]
  },
  {
   "cell_type": "code",
   "execution_count": 32,
   "metadata": {},
   "outputs": [],
   "source": [
    "calculate_aggregates()"
   ]
  }
 ],
 "metadata": {
  "kernelspec": {
   "display_name": "Python 3",
   "language": "python",
   "name": "python3"
  },
  "language_info": {
   "codemirror_mode": {
    "name": "ipython",
    "version": 3
   },
   "file_extension": ".py",
   "mimetype": "text/x-python",
   "name": "python",
   "nbconvert_exporter": "python",
   "pygments_lexer": "ipython3",
   "version": "3.12.7"
  }
 },
 "nbformat": 4,
 "nbformat_minor": 2
}
